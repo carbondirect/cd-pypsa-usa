{
 "cells": [
  {
   "cell_type": "code",
   "execution_count": null,
   "id": "07cd7538",
   "metadata": {},
   "outputs": [],
   "source": [
    "import pypsa\n",
    "import pandas as pd\n",
    "import numpy as np\n",
    "import pickle\n",
    "# Load the network that caused the error\n",
    "#network_path = \"/Users/lkilroy/Documents/cd-pypsa-usa/workflow/resources/Baytown Baseline Run 1/texas/elec_base_network.nc\"\n",
    "import pypsa\n",
    "network_path = # insert pickle network path \n",
    "with open(network_path, 'rb') as f:\n",
    "    n = pickle.load(f)\n",
    "\n",
    "# Now 'n' is a pypsa.Network object, and you can inspect its contents\n",
    "# For example, print a summary of the network\n",
    "print(n)\n",
    "\n",
    "# Or look at the DataFrame of generators\n",
    "print(n.generators.head())\n",
    "\n",
    "# Or see the buses\n",
    "print(n.buses.head())"
   ]
  },
  {
   "cell_type": "code",
   "execution_count": null,
   "id": "25a178f5",
   "metadata": {},
   "outputs": [],
   "source": [
    "# get the baytown generators \n",
    "baytown_gens = n.generators[n.generators.index.str.contains(\"Bay\", case=False, na=False)]\n",
    "baytown_gens\n"
   ]
  },
  {
   "cell_type": "code",
   "execution_count": null,
   "id": "28078234",
   "metadata": {},
   "outputs": [],
   "source": []
  }
 ],
 "metadata": {
  "kernelspec": {
   "display_name": "pypsa-usa",
   "language": "python",
   "name": "python3"
  },
  "language_info": {
   "codemirror_mode": {
    "name": "ipython",
    "version": 3
   },
   "file_extension": ".py",
   "mimetype": "text/x-python",
   "name": "python",
   "nbconvert_exporter": "python",
   "pygments_lexer": "ipython3",
   "version": "3.11.9"
  }
 },
 "nbformat": 4,
 "nbformat_minor": 5
}
